{
  "nbformat": 4,
  "nbformat_minor": 0,
  "metadata": {
    "colab": {
      "name": "Untitled6.ipynb",
      "provenance": [],
      "mount_file_id": "1jKbZenuNEZTYyoOKVC_WF6r6F0Lg08Zu",
      "authorship_tag": "ABX9TyMjzr2/MegWQbOkYC0dsv+P",
      "include_colab_link": true
    },
    "kernelspec": {
      "name": "python3",
      "display_name": "Python 3"
    }
  },
  "cells": [
    {
      "cell_type": "markdown",
      "metadata": {
        "id": "view-in-github",
        "colab_type": "text"
      },
      "source": [
        "<a href=\"https://colab.research.google.com/github/bachvu98/AppRatingPrediction/blob/master/Transform%20to%20Binary%20Categories.ipynb\" target=\"_parent\"><img src=\"https://colab.research.google.com/assets/colab-badge.svg\" alt=\"Open In Colab\"/></a>"
      ]
    },
    {
      "cell_type": "code",
      "metadata": {
        "id": "nVVXCy_9cr_9",
        "colab_type": "code",
        "colab": {}
      },
      "source": [
        "import pandas as pd\n",
        "import numpy as np\n",
        "import nltk"
      ],
      "execution_count": 1,
      "outputs": []
    },
    {
      "cell_type": "code",
      "metadata": {
        "id": "qZe1zJ0Rc6EF",
        "colab_type": "code",
        "colab": {}
      },
      "source": [
        "annotations = pd.read_csv('/content/drive/My Drive/OPP-115/OPP-115/annotations.csv')\n",
        "sites = pd.read_csv('/content/drive/My Drive/OPP-115/OPP-115/sites.csv')"
      ],
      "execution_count": 8,
      "outputs": []
    },
    {
      "cell_type": "code",
      "metadata": {
        "id": "Pa0FqQHbmma0",
        "colab_type": "code",
        "colab": {
          "base_uri": "https://localhost:8080/",
          "height": 34
        },
        "outputId": "3f3033e0-b855-4358-e808-8d30feaba38d"
      },
      "source": [
        "annotations['Policy UID'].nunique()"
      ],
      "execution_count": 6,
      "outputs": [
        {
          "output_type": "execute_result",
          "data": {
            "text/plain": [
              "115"
            ]
          },
          "metadata": {
            "tags": []
          },
          "execution_count": 6
        }
      ]
    },
    {
      "cell_type": "code",
      "metadata": {
        "id": "12VP6vtHnIBh",
        "colab_type": "code",
        "colab": {
          "base_uri": "https://localhost:8080/",
          "height": 34
        },
        "outputId": "1b1d3d52-a9fb-4a29-9feb-b7614675ce67"
      },
      "source": [
        "sites['Policy UID'].nunique()"
      ],
      "execution_count": 9,
      "outputs": [
        {
          "output_type": "execute_result",
          "data": {
            "text/plain": [
              "115"
            ]
          },
          "metadata": {
            "tags": []
          },
          "execution_count": 9
        }
      ]
    },
    {
      "cell_type": "code",
      "metadata": {
        "id": "7OFb5ztGm0U6",
        "colab_type": "code",
        "colab": {
          "base_uri": "https://localhost:8080/",
          "height": 400
        },
        "outputId": "2c094b91-2d7c-40ad-f0ae-1ea84fa6cf4b"
      },
      "source": [
        "annotations.head()"
      ],
      "execution_count": 7,
      "outputs": [
        {
          "output_type": "execute_result",
          "data": {
            "text/html": [
              "<div>\n",
              "<style scoped>\n",
              "    .dataframe tbody tr th:only-of-type {\n",
              "        vertical-align: middle;\n",
              "    }\n",
              "\n",
              "    .dataframe tbody tr th {\n",
              "        vertical-align: top;\n",
              "    }\n",
              "\n",
              "    .dataframe thead th {\n",
              "        text-align: right;\n",
              "    }\n",
              "</style>\n",
              "<table border=\"1\" class=\"dataframe\">\n",
              "  <thead>\n",
              "    <tr style=\"text-align: right;\">\n",
              "      <th></th>\n",
              "      <th>Policy UID</th>\n",
              "      <th>annotation_id</th>\n",
              "      <th>batch_id</th>\n",
              "      <th>annotator_id</th>\n",
              "      <th>segment_id</th>\n",
              "      <th>category_name</th>\n",
              "      <th>attributes_value_pairs</th>\n",
              "      <th>date</th>\n",
              "      <th>policy_url</th>\n",
              "    </tr>\n",
              "  </thead>\n",
              "  <tbody>\n",
              "    <tr>\n",
              "      <th>0</th>\n",
              "      <td>1017</td>\n",
              "      <td>20137</td>\n",
              "      <td>test_category_labeling_highlight_fordham_aaaaa</td>\n",
              "      <td>121</td>\n",
              "      <td>0</td>\n",
              "      <td>Other</td>\n",
              "      <td>{\"Other Type\": {\"selectedText\": \"Sci-News.com ...</td>\n",
              "      <td>NaN</td>\n",
              "      <td>http://www.sci-news.com/privacy-policy.html</td>\n",
              "    </tr>\n",
              "    <tr>\n",
              "      <th>1</th>\n",
              "      <td>1017</td>\n",
              "      <td>20324</td>\n",
              "      <td>test_category_labeling_highlight_fordham_aaaaa</td>\n",
              "      <td>121</td>\n",
              "      <td>1</td>\n",
              "      <td>First Party Collection/Use</td>\n",
              "      <td>{\"Collection Mode\": {\"selectedText\": \"nformati...</td>\n",
              "      <td>NaN</td>\n",
              "      <td>http://www.sci-news.com/privacy-policy.html</td>\n",
              "    </tr>\n",
              "    <tr>\n",
              "      <th>2</th>\n",
              "      <td>1017</td>\n",
              "      <td>20325</td>\n",
              "      <td>test_category_labeling_highlight_fordham_aaaaa</td>\n",
              "      <td>121</td>\n",
              "      <td>1</td>\n",
              "      <td>First Party Collection/Use</td>\n",
              "      <td>{\"Collection Mode\": {\"selectedText\": \"nformati...</td>\n",
              "      <td>NaN</td>\n",
              "      <td>http://www.sci-news.com/privacy-policy.html</td>\n",
              "    </tr>\n",
              "    <tr>\n",
              "      <th>3</th>\n",
              "      <td>1017</td>\n",
              "      <td>20326</td>\n",
              "      <td>test_category_labeling_highlight_fordham_aaaaa</td>\n",
              "      <td>121</td>\n",
              "      <td>2</td>\n",
              "      <td>Data Retention</td>\n",
              "      <td>{\"Personal Information Type\": {\"selectedText\":...</td>\n",
              "      <td>NaN</td>\n",
              "      <td>http://www.sci-news.com/privacy-policy.html</td>\n",
              "    </tr>\n",
              "    <tr>\n",
              "      <th>4</th>\n",
              "      <td>1017</td>\n",
              "      <td>20327</td>\n",
              "      <td>test_category_labeling_highlight_fordham_aaaaa</td>\n",
              "      <td>121</td>\n",
              "      <td>3</td>\n",
              "      <td>First Party Collection/Use</td>\n",
              "      <td>{\"Collection Mode\": {\"selectedText\": \"Not sele...</td>\n",
              "      <td>NaN</td>\n",
              "      <td>http://www.sci-news.com/privacy-policy.html</td>\n",
              "    </tr>\n",
              "  </tbody>\n",
              "</table>\n",
              "</div>"
            ],
            "text/plain": [
              "   Policy UID  annotation_id  ... date                                   policy_url\n",
              "0        1017          20137  ...  NaN  http://www.sci-news.com/privacy-policy.html\n",
              "1        1017          20324  ...  NaN  http://www.sci-news.com/privacy-policy.html\n",
              "2        1017          20325  ...  NaN  http://www.sci-news.com/privacy-policy.html\n",
              "3        1017          20326  ...  NaN  http://www.sci-news.com/privacy-policy.html\n",
              "4        1017          20327  ...  NaN  http://www.sci-news.com/privacy-policy.html\n",
              "\n",
              "[5 rows x 9 columns]"
            ]
          },
          "metadata": {
            "tags": []
          },
          "execution_count": 7
        }
      ]
    }
  ]
}